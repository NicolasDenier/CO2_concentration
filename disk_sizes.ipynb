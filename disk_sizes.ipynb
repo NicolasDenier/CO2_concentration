{
 "cells": [
  {
   "cell_type": "code",
   "execution_count": 2,
   "metadata": {},
   "outputs": [],
   "source": [
    "import pandas as pd\n",
    "import numpy as np"
   ]
  },
  {
   "cell_type": "markdown",
   "metadata": {},
   "source": [
    "# $CO_2$ concentration in earth atmosphere"
   ]
  },
  {
   "cell_type": "markdown",
   "metadata": {},
   "source": [
    "## 1 - Reference prior to the industrial revolution\n",
    "[https://en.wikipedia.org/wiki/Carbon_dioxide_in_Earth%27s_atmosphere](https://en.wikipedia.org/wiki/Carbon_dioxide_in_Earth%27s_atmosphere)"
   ]
  },
  {
   "cell_type": "code",
   "execution_count": 3,
   "metadata": {},
   "outputs": [],
   "source": [
    "C0 = 280 # ppm\n",
    "disk_1 = C0 # Area of the first disk (any scale, the idea is to get the ratios between the 3 disks)"
   ]
  },
  {
   "cell_type": "markdown",
   "metadata": {},
   "source": [
    "## 2 - Current observations\n",
    "[https://github.com/littlepictures/datasets/blob/main/ghg/ghg_xco2_yearly_global.csv](https://github.com/littlepictures/datasets/blob/main/ghg/ghg_xco2_yearly_global.csv)"
   ]
  },
  {
   "cell_type": "code",
   "execution_count": 4,
   "metadata": {},
   "outputs": [],
   "source": [
    "df = pd.read_csv('ghg_xco2_yearly_global.csv')"
   ]
  },
  {
   "cell_type": "code",
   "execution_count": 14,
   "metadata": {},
   "outputs": [
    {
     "data": {
      "text/plain": [
       "413.316349502961"
      ]
     },
     "execution_count": 14,
     "metadata": {},
     "output_type": "execute_result"
    }
   ],
   "source": [
    "year = 2021 # most recent available data\n",
    "# Get the mean of each country for the selected year\n",
    "disk_2 = float(df[df['year']==year].dropna(axis=1).drop(columns='year').mean(axis=1))\n",
    "disk_2"
   ]
  },
  {
   "cell_type": "markdown",
   "metadata": {},
   "source": [
    "## 3 - Limit +3°C"
   ]
  },
  {
   "cell_type": "markdown",
   "metadata": {},
   "source": [
    "[https://fr.wikipedia.org/wiki/Forçage_radiatif](https://fr.wikipedia.org/wiki/Forçage_radiatif)  \n",
    "[https://www.science-climat-energie.be/2018/04/10/forcage-radiatif-sensibilite-climatique-et-retroactions-positives/](https://www.science-climat-energie.be/2018/04/10/forcage-radiatif-sensibilite-climatique-et-retroactions-positives/)"
   ]
  },
  {
   "cell_type": "code",
   "execution_count": 32,
   "metadata": {},
   "outputs": [],
   "source": [
    "# Formula to get the radiative forcing givent the temperature delta\n",
    "def radiative_forcing(diff_temp):\n",
    "    return diff_temp/0.8\n",
    "\n",
    "# To get the CO2 concentration leading to the given radiative forcing, based on the concentration reference C0\n",
    "def CO2_concentration(C0, DF):\n",
    "    return np.exp(DF/5.35)*C0"
   ]
  },
  {
   "cell_type": "code",
   "execution_count": 48,
   "metadata": {},
   "outputs": [
    {
     "data": {
      "text/plain": [
       "564.377967738327"
      ]
     },
     "execution_count": 48,
     "metadata": {},
     "output_type": "execute_result"
    }
   ],
   "source": [
    "# CO2 concentration that leads to a +3°C temperature increase from a reference prior to the industrial revolution\n",
    "disk_3 = CO2_concentration(C0, radiative_forcing(3))\n",
    "disk_3"
   ]
  },
  {
   "cell_type": "markdown",
   "metadata": {},
   "source": [
    "## Radius ratios"
   ]
  },
  {
   "cell_type": "code",
   "execution_count": 49,
   "metadata": {},
   "outputs": [],
   "source": [
    "# Get the radius af a disk given its area\n",
    "def disk_radius(area):\n",
    "    return np.sqrt(area/np.pi)"
   ]
  },
  {
   "cell_type": "code",
   "execution_count": 50,
   "metadata": {},
   "outputs": [
    {
     "data": {
      "text/plain": [
       "1.2149608305017212"
      ]
     },
     "execution_count": 50,
     "metadata": {},
     "output_type": "execute_result"
    }
   ],
   "source": [
    "# Ratio between disk 2 and disk 1\n",
    "disk_radius(disk_2)/disk_radius(disk_1)"
   ]
  },
  {
   "cell_type": "code",
   "execution_count": 54,
   "metadata": {},
   "outputs": [
    {
     "data": {
      "text/plain": [
       "1.419730819227875"
      ]
     },
     "execution_count": 54,
     "metadata": {},
     "output_type": "execute_result"
    }
   ],
   "source": [
    "# Ratio between disk 3 and disk 1\n",
    "disk_radius(disk_3)/disk_radius(disk_1)"
   ]
  }
 ],
 "metadata": {
  "kernelspec": {
   "display_name": "Python 3",
   "language": "python",
   "name": "python3"
  },
  "language_info": {
   "codemirror_mode": {
    "name": "ipython",
    "version": 3
   },
   "file_extension": ".py",
   "mimetype": "text/x-python",
   "name": "python",
   "nbconvert_exporter": "python",
   "pygments_lexer": "ipython3",
   "version": "3.10.12"
  }
 },
 "nbformat": 4,
 "nbformat_minor": 2
}
